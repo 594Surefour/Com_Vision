{
 "cells": [
  {
   "cell_type": "code",
   "execution_count": 2,
   "metadata": {
    "ExecuteTime": {
     "end_time": "2021-06-16T07:56:27.655445Z",
     "start_time": "2021-06-16T07:56:25.567082Z"
    }
   },
   "outputs": [],
   "source": [
    "import h5py\n",
    "import numpy as np\n",
    "from sklearn.utils import shuffle\n",
    "np.random.seed(2017)\n",
    "\n",
    "X_train = []\n",
    "X_test = []\n",
    "\n",
    "for filename in [\"gap_ResNet50.h5\", \"gap_Xception.h5\", \"gap_InceptionV3.h5\"]:\n",
    "    with h5py.File(filename, 'r') as h:\n",
    "        X_train.append(np.array(h['train']))\n",
    "        X_test.append(np.array(h['test']))\n",
    "        y_train = np.array(h['label'])\n",
    "\n",
    "X_train = np.concatenate(X_train, axis=1)\n",
    "X_test = np.concatenate(X_test, axis=1)\n",
    "\n",
    "X_train, y_train = shuffle(X_train, y_train)"
   ]
  },
  {
   "cell_type": "code",
   "execution_count": 3,
   "metadata": {
    "ExecuteTime": {
     "end_time": "2021-06-16T07:56:29.512872Z",
     "start_time": "2021-06-16T07:56:29.440978Z"
    }
   },
   "outputs": [],
   "source": [
    "from keras.models import *\n",
    "from keras.layers import *\n",
    "\n",
    "input_tensor = Input(X_train.shape[1:])\n",
    "x = input_tensor\n",
    "x = Dropout(0.5)(x)\n",
    "x = Dense(1, activation='sigmoid')(x)\n",
    "model = Model(input_tensor, x)\n",
    "\n",
    "model.compile(optimizer='adadelta',\n",
    "              loss='binary_crossentropy',              metrics=['accuracy'])"
   ]
  },
  {
   "cell_type": "code",
   "execution_count": 14,
   "metadata": {
    "ExecuteTime": {
     "end_time": "2021-06-16T08:02:25.272013Z",
     "start_time": "2021-06-16T08:02:24.850721Z"
    }
   },
   "outputs": [
    {
     "data": {
      "image/svg+xml": [
       "<svg xmlns=\"http://www.w3.org/2000/svg\" xmlns:xlink=\"http://www.w3.org/1999/xlink\" width=\"288pt\" height=\"295pt\" viewBox=\"0.00 0.00 216.00 221.00\">\n",
       "<g id=\"graph0\" class=\"graph\" transform=\"scale(1.3333 1.3333) rotate(0) translate(4 217)\">\n",
       "<title>G</title>\n",
       "<polygon fill=\"#ffffff\" stroke=\"transparent\" points=\"-4,4 -4,-217 212,-217 212,4 -4,4\"/>\n",
       "<!-- 140250067721424 -->\n",
       "<g id=\"node1\" class=\"node\">\n",
       "<title>140250067721424</title>\n",
       "<polygon fill=\"none\" stroke=\"#000000\" points=\"0,-166.5 0,-212.5 208,-212.5 208,-166.5 0,-166.5\"/>\n",
       "<text text-anchor=\"middle\" x=\"50.5\" y=\"-185.8\" font-family=\"Times,serif\" font-size=\"14.00\" fill=\"#000000\">input_1: InputLayer</text>\n",
       "<polyline fill=\"none\" stroke=\"#000000\" points=\"101,-166.5 101,-212.5 \"/>\n",
       "<text text-anchor=\"middle\" x=\"124\" y=\"-197.3\" font-family=\"Times,serif\" font-size=\"14.00\" fill=\"#000000\">input:</text>\n",
       "<polyline fill=\"none\" stroke=\"#000000\" points=\"101,-189.5 147,-189.5 \"/>\n",
       "<text text-anchor=\"middle\" x=\"124\" y=\"-174.3\" font-family=\"Times,serif\" font-size=\"14.00\" fill=\"#000000\">output:</text>\n",
       "<polyline fill=\"none\" stroke=\"#000000\" points=\"147,-166.5 147,-212.5 \"/>\n",
       "<text text-anchor=\"middle\" x=\"177.5\" y=\"-197.3\" font-family=\"Times,serif\" font-size=\"14.00\" fill=\"#000000\">[(?, 6144)]</text>\n",
       "<polyline fill=\"none\" stroke=\"#000000\" points=\"147,-189.5 208,-189.5 \"/>\n",
       "<text text-anchor=\"middle\" x=\"177.5\" y=\"-174.3\" font-family=\"Times,serif\" font-size=\"14.00\" fill=\"#000000\">[(?, 6144)]</text>\n",
       "</g>\n",
       "<!-- 140247625235808 -->\n",
       "<g id=\"node2\" class=\"node\">\n",
       "<title>140247625235808</title>\n",
       "<polygon fill=\"none\" stroke=\"#000000\" points=\"9,-83.5 9,-129.5 199,-129.5 199,-83.5 9,-83.5\"/>\n",
       "<text text-anchor=\"middle\" x=\"54\" y=\"-102.8\" font-family=\"Times,serif\" font-size=\"14.00\" fill=\"#000000\">dropout: Dropout</text>\n",
       "<polyline fill=\"none\" stroke=\"#000000\" points=\"99,-83.5 99,-129.5 \"/>\n",
       "<text text-anchor=\"middle\" x=\"122\" y=\"-114.3\" font-family=\"Times,serif\" font-size=\"14.00\" fill=\"#000000\">input:</text>\n",
       "<polyline fill=\"none\" stroke=\"#000000\" points=\"99,-106.5 145,-106.5 \"/>\n",
       "<text text-anchor=\"middle\" x=\"122\" y=\"-91.3\" font-family=\"Times,serif\" font-size=\"14.00\" fill=\"#000000\">output:</text>\n",
       "<polyline fill=\"none\" stroke=\"#000000\" points=\"145,-83.5 145,-129.5 \"/>\n",
       "<text text-anchor=\"middle\" x=\"172\" y=\"-114.3\" font-family=\"Times,serif\" font-size=\"14.00\" fill=\"#000000\">(?, 6144)</text>\n",
       "<polyline fill=\"none\" stroke=\"#000000\" points=\"145,-106.5 199,-106.5 \"/>\n",
       "<text text-anchor=\"middle\" x=\"172\" y=\"-91.3\" font-family=\"Times,serif\" font-size=\"14.00\" fill=\"#000000\">(?, 6144)</text>\n",
       "</g>\n",
       "<!-- 140250067721424&#45;&gt;140247625235808 -->\n",
       "<g id=\"edge1\" class=\"edge\">\n",
       "<title>140250067721424-&gt;140247625235808</title>\n",
       "<path fill=\"none\" stroke=\"#000000\" d=\"M104,-166.3799C104,-158.1745 104,-148.7679 104,-139.8786\"/>\n",
       "<polygon fill=\"#000000\" stroke=\"#000000\" points=\"107.5001,-139.784 104,-129.784 100.5001,-139.784 107.5001,-139.784\"/>\n",
       "</g>\n",
       "<!-- 140250067719888 -->\n",
       "<g id=\"node3\" class=\"node\">\n",
       "<title>140250067719888</title>\n",
       "<polygon fill=\"none\" stroke=\"#000000\" points=\"18,-.5 18,-46.5 190,-46.5 190,-.5 18,-.5\"/>\n",
       "<text text-anchor=\"middle\" x=\"54\" y=\"-19.8\" font-family=\"Times,serif\" font-size=\"14.00\" fill=\"#000000\">dense: Dense</text>\n",
       "<polyline fill=\"none\" stroke=\"#000000\" points=\"90,-.5 90,-46.5 \"/>\n",
       "<text text-anchor=\"middle\" x=\"113\" y=\"-31.3\" font-family=\"Times,serif\" font-size=\"14.00\" fill=\"#000000\">input:</text>\n",
       "<polyline fill=\"none\" stroke=\"#000000\" points=\"90,-23.5 136,-23.5 \"/>\n",
       "<text text-anchor=\"middle\" x=\"113\" y=\"-8.3\" font-family=\"Times,serif\" font-size=\"14.00\" fill=\"#000000\">output:</text>\n",
       "<polyline fill=\"none\" stroke=\"#000000\" points=\"136,-.5 136,-46.5 \"/>\n",
       "<text text-anchor=\"middle\" x=\"163\" y=\"-31.3\" font-family=\"Times,serif\" font-size=\"14.00\" fill=\"#000000\">(?, 6144)</text>\n",
       "<polyline fill=\"none\" stroke=\"#000000\" points=\"136,-23.5 190,-23.5 \"/>\n",
       "<text text-anchor=\"middle\" x=\"163\" y=\"-8.3\" font-family=\"Times,serif\" font-size=\"14.00\" fill=\"#000000\">(?, 1)</text>\n",
       "</g>\n",
       "<!-- 140247625235808&#45;&gt;140250067719888 -->\n",
       "<g id=\"edge2\" class=\"edge\">\n",
       "<title>140247625235808-&gt;140250067719888</title>\n",
       "<path fill=\"none\" stroke=\"#000000\" d=\"M104,-83.3799C104,-75.1745 104,-65.7679 104,-56.8786\"/>\n",
       "<polygon fill=\"#000000\" stroke=\"#000000\" points=\"107.5001,-56.784 104,-46.784 100.5001,-56.784 107.5001,-56.784\"/>\n",
       "</g>\n",
       "</g>\n",
       "</svg>"
      ],
      "text/plain": [
       "<IPython.core.display.SVG object>"
      ]
     },
     "execution_count": 14,
     "metadata": {},
     "output_type": "execute_result"
    }
   ],
   "source": [
    "from IPython.display import SVG\n",
    "#from keras.utils.vis_utils import model_to_dot, plot\n",
    "from keras.utils.vis_utils import plot_model\n",
    "\n",
    "SVG(model_to_dot(model, show_shapes=True).create(prog='dot', format='svg'))"
   ]
  },
  {
   "cell_type": "code",
   "execution_count": 6,
   "metadata": {
    "ExecuteTime": {
     "end_time": "2021-06-16T07:56:57.399248Z",
     "start_time": "2021-06-16T07:56:53.423150Z"
    },
    "scrolled": false
   },
   "outputs": [
    {
     "name": "stdout",
     "output_type": "stream",
     "text": [
      "Epoch 1/8\n",
      "157/157 [==============================] - 1s 4ms/step - loss: 0.5012 - accuracy: 0.7662 - val_loss: 0.4160 - val_accuracy: 0.8860\n",
      "Epoch 2/8\n",
      "157/157 [==============================] - 0s 3ms/step - loss: 0.4772 - accuracy: 0.7861 - val_loss: 0.3944 - val_accuracy: 0.8982\n",
      "Epoch 3/8\n",
      "157/157 [==============================] - 0s 3ms/step - loss: 0.4535 - accuracy: 0.8059 - val_loss: 0.3740 - val_accuracy: 0.9080\n",
      "Epoch 4/8\n",
      "157/157 [==============================] - 0s 3ms/step - loss: 0.4351 - accuracy: 0.8152 - val_loss: 0.3549 - val_accuracy: 0.9188\n",
      "Epoch 5/8\n",
      "157/157 [==============================] - 0s 3ms/step - loss: 0.4124 - accuracy: 0.8353 - val_loss: 0.3373 - val_accuracy: 0.9270\n",
      "Epoch 6/8\n",
      "157/157 [==============================] - 0s 3ms/step - loss: 0.3969 - accuracy: 0.8425 - val_loss: 0.3207 - val_accuracy: 0.9340\n",
      "Epoch 7/8\n",
      "157/157 [==============================] - 0s 3ms/step - loss: 0.3785 - accuracy: 0.8559 - val_loss: 0.3052 - val_accuracy: 0.9414\n",
      "Epoch 8/8\n",
      "157/157 [==============================] - 0s 3ms/step - loss: 0.3603 - accuracy: 0.8651 - val_loss: 0.2907 - val_accuracy: 0.9464\n"
     ]
    },
    {
     "data": {
      "text/plain": [
       "<tensorflow.python.keras.callbacks.History at 0x7f8df251f1c0>"
      ]
     },
     "execution_count": 6,
     "metadata": {},
     "output_type": "execute_result"
    }
   ],
   "source": [
    "model.fit(X_train, y_train, batch_size=128, epochs=8, validation_split=0.2)"
   ]
  },
  {
   "cell_type": "code",
   "execution_count": 7,
   "metadata": {
    "ExecuteTime": {
     "end_time": "2021-06-16T07:56:58.528699Z",
     "start_time": "2021-06-16T07:56:58.513831Z"
    }
   },
   "outputs": [],
   "source": [
    "model.save('model.h5')"
   ]
  },
  {
   "cell_type": "code",
   "execution_count": 8,
   "metadata": {
    "ExecuteTime": {
     "end_time": "2021-06-16T07:56:59.471831Z",
     "start_time": "2021-06-16T07:56:59.136249Z"
    }
   },
   "outputs": [
    {
     "name": "stdout",
     "output_type": "stream",
     "text": [
      "391/391 [==============================] - 0s 627us/step\n"
     ]
    }
   ],
   "source": [
    "y_pred = model.predict(X_test, verbose=1)\n",
    "y_pred = y_pred.clip(min=0.005, max=0.995)"
   ]
  },
  {
   "cell_type": "code",
   "execution_count": 12,
   "metadata": {
    "ExecuteTime": {
     "end_time": "2021-06-16T07:59:42.772811Z",
     "start_time": "2021-06-16T07:59:42.013329Z"
    }
   },
   "outputs": [
    {
     "name": "stdout",
     "output_type": "stream",
     "text": [
      "Found 12500 images belonging to 1 classes.\n"
     ]
    },
    {
     "data": {
      "text/html": [
       "<div>\n",
       "<style scoped>\n",
       "    .dataframe tbody tr th:only-of-type {\n",
       "        vertical-align: middle;\n",
       "    }\n",
       "\n",
       "    .dataframe tbody tr th {\n",
       "        vertical-align: top;\n",
       "    }\n",
       "\n",
       "    .dataframe thead th {\n",
       "        text-align: right;\n",
       "    }\n",
       "</style>\n",
       "<table border=\"1\" class=\"dataframe\">\n",
       "  <thead>\n",
       "    <tr style=\"text-align: right;\">\n",
       "      <th></th>\n",
       "      <th>id</th>\n",
       "      <th>label</th>\n",
       "    </tr>\n",
       "  </thead>\n",
       "  <tbody>\n",
       "    <tr>\n",
       "      <th>0</th>\n",
       "      <td>1</td>\n",
       "      <td>0.747422</td>\n",
       "    </tr>\n",
       "    <tr>\n",
       "      <th>1</th>\n",
       "      <td>2</td>\n",
       "      <td>0.788199</td>\n",
       "    </tr>\n",
       "    <tr>\n",
       "      <th>2</th>\n",
       "      <td>3</td>\n",
       "      <td>0.784558</td>\n",
       "    </tr>\n",
       "    <tr>\n",
       "      <th>3</th>\n",
       "      <td>4</td>\n",
       "      <td>0.782025</td>\n",
       "    </tr>\n",
       "    <tr>\n",
       "      <th>4</th>\n",
       "      <td>5</td>\n",
       "      <td>0.105116</td>\n",
       "    </tr>\n",
       "    <tr>\n",
       "      <th>5</th>\n",
       "      <td>6</td>\n",
       "      <td>0.084706</td>\n",
       "    </tr>\n",
       "    <tr>\n",
       "      <th>6</th>\n",
       "      <td>7</td>\n",
       "      <td>0.131189</td>\n",
       "    </tr>\n",
       "    <tr>\n",
       "      <th>7</th>\n",
       "      <td>8</td>\n",
       "      <td>0.288299</td>\n",
       "    </tr>\n",
       "    <tr>\n",
       "      <th>8</th>\n",
       "      <td>9</td>\n",
       "      <td>0.113145</td>\n",
       "    </tr>\n",
       "    <tr>\n",
       "      <th>9</th>\n",
       "      <td>10</td>\n",
       "      <td>0.247305</td>\n",
       "    </tr>\n",
       "  </tbody>\n",
       "</table>\n",
       "</div>"
      ],
      "text/plain": [
       "   id     label\n",
       "0   1  0.747422\n",
       "1   2  0.788199\n",
       "2   3  0.784558\n",
       "3   4  0.782025\n",
       "4   5  0.105116\n",
       "5   6  0.084706\n",
       "6   7  0.131189\n",
       "7   8  0.288299\n",
       "8   9  0.113145\n",
       "9  10  0.247305"
      ]
     },
     "execution_count": 12,
     "metadata": {},
     "output_type": "execute_result"
    }
   ],
   "source": [
    "import pandas as pd\n",
    "from keras.preprocessing.image import *\n",
    "\n",
    "df = pd.read_csv(\"sample_submission.csv\")\n",
    "\n",
    "image_size = (224, 224)\n",
    "gen = ImageDataGenerator()\n",
    "test_generator = gen.flow_from_directory(\"test2\", image_size, shuffle=False, \n",
    "                                         batch_size=16, class_mode=None)\n",
    "\n",
    "for i, fname in enumerate(test_generator.filenames):\n",
    "    index = int(fname[fname.rfind('/')+1:fname.rfind('.')])\n",
    "    #print(i,\"---\",fname)\n",
    "    df.at[index-1,'label'] = y_pred[i]\n",
    "    \n",
    "df.to_csv('pred.csv', index=None)\n",
    "df.head(10)"
   ]
  },
  {
   "cell_type": "code",
   "execution_count": null,
   "metadata": {
    "collapsed": true
   },
   "outputs": [],
   "source": []
  }
 ],
 "metadata": {
  "kernelspec": {
   "display_name": "Python 3",
   "language": "python",
   "name": "python3"
  },
  "language_info": {
   "codemirror_mode": {
    "name": "ipython",
    "version": 3
   },
   "file_extension": ".py",
   "mimetype": "text/x-python",
   "name": "python",
   "nbconvert_exporter": "python",
   "pygments_lexer": "ipython3",
   "version": "3.8.5"
  },
  "toc": {
   "base_numbering": 1,
   "nav_menu": {},
   "number_sections": true,
   "sideBar": true,
   "skip_h1_title": false,
   "title_cell": "Table of Contents",
   "title_sidebar": "Contents",
   "toc_cell": false,
   "toc_position": {},
   "toc_section_display": true,
   "toc_window_display": false
  },
  "varInspector": {
   "cols": {
    "lenName": 16,
    "lenType": 16,
    "lenVar": 40
   },
   "kernels_config": {
    "python": {
     "delete_cmd_postfix": "",
     "delete_cmd_prefix": "del ",
     "library": "var_list.py",
     "varRefreshCmd": "print(var_dic_list())"
    },
    "r": {
     "delete_cmd_postfix": ") ",
     "delete_cmd_prefix": "rm(",
     "library": "var_list.r",
     "varRefreshCmd": "cat(var_dic_list()) "
    }
   },
   "types_to_exclude": [
    "module",
    "function",
    "builtin_function_or_method",
    "instance",
    "_Feature"
   ],
   "window_display": false
  }
 },
 "nbformat": 4,
 "nbformat_minor": 2
}
